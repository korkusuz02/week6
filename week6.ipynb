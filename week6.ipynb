{
 "cells": [
  {
   "cell_type": "code",
   "execution_count": 9,
   "id": "dabd8fec",
   "metadata": {},
   "outputs": [],
   "source": [
    "import logging\n",
    "import os\n",
    "import subprocess\n",
    "import yaml\n",
    "import pandas as pd\n",
    "import datetime \n",
    "import gc\n",
    "import re\n",
    "import numpy as np\n",
    "import matplotlib.pyplot as plt\n",
    "from dask import dataframe as dd\n",
    "import csv\n",
    "import gzip\n",
    "import time"
   ]
  },
  {
   "cell_type": "code",
   "execution_count": 10,
   "id": "a5bed5e1",
   "metadata": {},
   "outputs": [
    {
     "name": "stderr",
     "output_type": "stream",
     "text": [
      "D:\\ProgramDosyalaari\\anaconda\\lib\\site-packages\\pandas\\util\\__init__.py:15: FutureWarning: pandas.util.testing is deprecated. Use the functions in the public API at pandas.testing instead.\n",
      "  import pandas.util.testing\n"
     ]
    }
   ],
   "source": [
    "veri = pd.DataFrame(data=np.random.randint(99999, 99999999, size=(10000000,14)),columns=['C1','C2','C3','C4','C5','C6','C7','C8','C9','C10','C11','C12','C13','C14'])\n",
    "veri['C15'] = pd.util.testing.rands_array(5,10000000)\n",
    "veri.to_csv(\"new_data.csv\")"
   ]
  },
  {
   "cell_type": "code",
   "execution_count": 11,
   "id": "2d95a4d0",
   "metadata": {},
   "outputs": [
    {
     "name": "stdout",
     "output_type": "stream",
     "text": [
      "loads the whole CSV file at once in the memory in a single dataframe:  18.967334747314453 sec\n"
     ]
    }
   ],
   "source": [
    "start = time.time()\n",
    "veri = pd.read_csv('new_data.csv')\n",
    "end = time.time()\n",
    "print(\"loads the whole CSV file at once in the memory in a single dataframe: \",(end-start),\"sec\")"
   ]
  },
  {
   "cell_type": "code",
   "execution_count": 12,
   "id": "c7230a47",
   "metadata": {},
   "outputs": [
    {
     "name": "stdout",
     "output_type": "stream",
     "text": [
      "Instead of reading the whole CSV at once, chunks of CSV are read into memory:  0.2882671356201172 sec\n"
     ]
    }
   ],
   "source": [
    "start = time.time()\n",
    "#read data in chunks of 1 million rows at a time\n",
    "veri = pd.read_csv('new_data.csv',chunksize=1000000)\n",
    "end = time.time()\n",
    "print(\"Instead of reading the whole CSV at once, chunks of CSV are read into memory: \",(end-start),\"sec\")\n",
    "pd_df = pd.concat(veri)"
   ]
  },
  {
   "cell_type": "code",
   "execution_count": 13,
   "id": "169ef967",
   "metadata": {},
   "outputs": [
    {
     "name": "stdout",
     "output_type": "stream",
     "text": [
      "Read csv with pandas:  17.80044388771057 sec\n"
     ]
    }
   ],
   "source": [
    "start = time.time()\n",
    "veri = pd.read_csv('new_data.csv',delimiter=',')\n",
    "end = time.time()\n",
    "print(\"Read csv with pandas: \",(end-start),\"sec\")"
   ]
  },
  {
   "cell_type": "code",
   "execution_count": 14,
   "id": "d143ace8",
   "metadata": {},
   "outputs": [
    {
     "data": {
      "text/html": [
       "<div>\n",
       "<style scoped>\n",
       "    .dataframe tbody tr th:only-of-type {\n",
       "        vertical-align: middle;\n",
       "    }\n",
       "\n",
       "    .dataframe tbody tr th {\n",
       "        vertical-align: top;\n",
       "    }\n",
       "\n",
       "    .dataframe thead th {\n",
       "        text-align: right;\n",
       "    }\n",
       "</style>\n",
       "<table border=\"1\" class=\"dataframe\">\n",
       "  <thead>\n",
       "    <tr style=\"text-align: right;\">\n",
       "      <th></th>\n",
       "      <th>Unnamed: 0</th>\n",
       "      <th>C1</th>\n",
       "      <th>C2</th>\n",
       "      <th>C3</th>\n",
       "      <th>C4</th>\n",
       "      <th>C5</th>\n",
       "      <th>C6</th>\n",
       "      <th>C7</th>\n",
       "      <th>C8</th>\n",
       "      <th>C9</th>\n",
       "      <th>C10</th>\n",
       "      <th>C11</th>\n",
       "      <th>C12</th>\n",
       "      <th>C13</th>\n",
       "      <th>C14</th>\n",
       "      <th>C15</th>\n",
       "    </tr>\n",
       "  </thead>\n",
       "  <tbody>\n",
       "    <tr>\n",
       "      <th>0</th>\n",
       "      <td>0</td>\n",
       "      <td>75177999</td>\n",
       "      <td>17916186</td>\n",
       "      <td>4650004</td>\n",
       "      <td>19000906</td>\n",
       "      <td>42160012</td>\n",
       "      <td>18440951</td>\n",
       "      <td>53805842</td>\n",
       "      <td>94719520</td>\n",
       "      <td>74008856</td>\n",
       "      <td>52909114</td>\n",
       "      <td>43817160</td>\n",
       "      <td>80588537</td>\n",
       "      <td>73942922</td>\n",
       "      <td>22395207</td>\n",
       "      <td>Lx7kf</td>\n",
       "    </tr>\n",
       "    <tr>\n",
       "      <th>1</th>\n",
       "      <td>1</td>\n",
       "      <td>97878932</td>\n",
       "      <td>24690227</td>\n",
       "      <td>85375732</td>\n",
       "      <td>63175051</td>\n",
       "      <td>95031555</td>\n",
       "      <td>95460294</td>\n",
       "      <td>29592631</td>\n",
       "      <td>98861411</td>\n",
       "      <td>93237003</td>\n",
       "      <td>86688257</td>\n",
       "      <td>370361</td>\n",
       "      <td>52042690</td>\n",
       "      <td>76144433</td>\n",
       "      <td>46045778</td>\n",
       "      <td>04aSn</td>\n",
       "    </tr>\n",
       "    <tr>\n",
       "      <th>2</th>\n",
       "      <td>2</td>\n",
       "      <td>26538740</td>\n",
       "      <td>11404101</td>\n",
       "      <td>27220354</td>\n",
       "      <td>73108061</td>\n",
       "      <td>46194446</td>\n",
       "      <td>54232131</td>\n",
       "      <td>89367649</td>\n",
       "      <td>67237795</td>\n",
       "      <td>19599157</td>\n",
       "      <td>57918083</td>\n",
       "      <td>58311150</td>\n",
       "      <td>66638976</td>\n",
       "      <td>55947083</td>\n",
       "      <td>97968875</td>\n",
       "      <td>PG6aB</td>\n",
       "    </tr>\n",
       "    <tr>\n",
       "      <th>3</th>\n",
       "      <td>3</td>\n",
       "      <td>48185218</td>\n",
       "      <td>63589338</td>\n",
       "      <td>35275611</td>\n",
       "      <td>75073891</td>\n",
       "      <td>58758333</td>\n",
       "      <td>67237333</td>\n",
       "      <td>64410128</td>\n",
       "      <td>18723828</td>\n",
       "      <td>86078699</td>\n",
       "      <td>4955798</td>\n",
       "      <td>92281466</td>\n",
       "      <td>59838334</td>\n",
       "      <td>76475970</td>\n",
       "      <td>73647927</td>\n",
       "      <td>8GKHK</td>\n",
       "    </tr>\n",
       "    <tr>\n",
       "      <th>4</th>\n",
       "      <td>4</td>\n",
       "      <td>38084338</td>\n",
       "      <td>41904722</td>\n",
       "      <td>37930039</td>\n",
       "      <td>41618816</td>\n",
       "      <td>94557596</td>\n",
       "      <td>21679930</td>\n",
       "      <td>1743161</td>\n",
       "      <td>20049110</td>\n",
       "      <td>87990439</td>\n",
       "      <td>82871484</td>\n",
       "      <td>76776308</td>\n",
       "      <td>73388349</td>\n",
       "      <td>79112949</td>\n",
       "      <td>30952741</td>\n",
       "      <td>M4DeW</td>\n",
       "    </tr>\n",
       "  </tbody>\n",
       "</table>\n",
       "</div>"
      ],
      "text/plain": [
       "   Unnamed: 0        C1        C2        C3        C4        C5        C6  \\\n",
       "0           0  75177999  17916186   4650004  19000906  42160012  18440951   \n",
       "1           1  97878932  24690227  85375732  63175051  95031555  95460294   \n",
       "2           2  26538740  11404101  27220354  73108061  46194446  54232131   \n",
       "3           3  48185218  63589338  35275611  75073891  58758333  67237333   \n",
       "4           4  38084338  41904722  37930039  41618816  94557596  21679930   \n",
       "\n",
       "         C7        C8        C9       C10       C11       C12       C13  \\\n",
       "0  53805842  94719520  74008856  52909114  43817160  80588537  73942922   \n",
       "1  29592631  98861411  93237003  86688257    370361  52042690  76144433   \n",
       "2  89367649  67237795  19599157  57918083  58311150  66638976  55947083   \n",
       "3  64410128  18723828  86078699   4955798  92281466  59838334  76475970   \n",
       "4   1743161  20049110  87990439  82871484  76776308  73388349  79112949   \n",
       "\n",
       "        C14    C15  \n",
       "0  22395207  Lx7kf  \n",
       "1  46045778  04aSn  \n",
       "2  97968875  PG6aB  \n",
       "3  73647927  8GKHK  \n",
       "4  30952741  M4DeW  "
      ]
     },
     "execution_count": 14,
     "metadata": {},
     "output_type": "execute_result"
    }
   ],
   "source": [
    "veri.head()"
   ]
  },
  {
   "cell_type": "code",
   "execution_count": 15,
   "id": "16032c57",
   "metadata": {},
   "outputs": [
    {
     "name": "stdout",
     "output_type": "stream",
     "text": [
      "Overwriting testutility.py\n"
     ]
    }
   ],
   "source": [
    "%%writefile testutility.py\n",
    "\n",
    "def read_config_file(filepath):\n",
    "    with open(filepath, 'r') as stream:\n",
    "        try:\n",
    "            return yaml.load(stream, Loader=yaml.Loader)\n",
    "        except yaml.YAMLError as exc:\n",
    "            logging.error(exc)\n",
    "\n",
    "def col_header_val(df,table_config):\n",
    "    df.columns = df.columns.str.lower()\n",
    "    df.columns = df.columns.str.replace('[^\\w]','_',regex=True)\n",
    "    df.columns = list(map(lambda x: x.strip('_'), list(df.columns)))\n",
    "    df.columns = list(map(lambda x: replacer(x,'_'), list(df.columns)))\n",
    "    expected_col = list(map(lambda x: x.lower(),  table_config['columns']))\n",
    "    expected_col.sort()\n",
    "    df.columns =list(map(lambda x: x.lower(), list(df.columns)))\n",
    "    df = df.reindex(sorted(df.columns), axis=1)\n",
    "    if len(df.columns) == len(expected_col) and list(expected_col)  == list(df.columns):\n",
    "        print(\"column name and column length validation passed\")\n",
    "        return 1\n",
    "    else:\n",
    "        print(\"column name and column length validation failed\")\n",
    "        mismatched_columns_file = list(set(df.columns).difference(expected_col))\n",
    "        print(\"Following File columns are not in the YAML file\",mismatched_columns_file)\n",
    "        missing_YAML_file = list(set(expected_col).difference(df.columns))\n",
    "        print(\"Following YAML columns are not in the file uploaded\",missing_YAML_file)\n",
    "        logging.info(f'df columns: {df.columns}')\n",
    "        logging.info(f'expected columns: {expected_col}')\n",
    "        return 0"
   ]
  },
  {
   "cell_type": "code",
   "execution_count": 16,
   "id": "9ae56fd4",
   "metadata": {},
   "outputs": [
    {
     "name": "stdout",
     "output_type": "stream",
     "text": [
      "Overwriting testutility.py\n"
     ]
    }
   ],
   "source": [
    "%%writefile testutility.py\n",
    "import yaml\n",
    "import logging\n",
    "import re\n",
    "\n",
    "def read_config_file(filepath):\n",
    "    with open(filepath, 'r') as stream:\n",
    "        try:\n",
    "            return yaml.load(stream, Loader=yaml.Loader)\n",
    "        except yaml.YAMLError as exc:\n",
    "            logging.error(exc)\n",
    "\n",
    "def replacer(string, char):\n",
    "    pattern = char + '{2,}'\n",
    "    string = re.sub(pattern, char, string)\n",
    "    return string\n",
    "\n",
    "def col_header_val(df, table_cfg):\n",
    "    df.columns = df.columns.str.lower()\n",
    "    df.columns = df.columns.str.replace('[^\\w]', '_', regex=True)\n",
    "    df.columns = list(map(lambda x: x.strip('_'), list(df.columns)))\n",
    "    df.columns = list(map(lambda x: replacer(x, '_'), list(df.columns)))\n",
    "    expected_col = list(map(lambda x: x.lower(), table_cfg[\"columns\"]))\n",
    "    expected_col.sort()\n",
    "    #df.columns = list(map(lambda x: x.lower(), list(df.columns)))\n",
    "    df = df.reindex(sorted(df.columns), axis=1)\n",
    "    if list(expected_col) == list(df.columns):\n",
    "        print(\"column name validation passed\")\n",
    "        return 1\n",
    "    else:\n",
    "        print(\"column name validation failed\")\n",
    "        mismatch = list(set(df.columns).difference(expected_col))\n",
    "        print(\"Columns not in YAML file: \", mismatch)\n",
    "        missing =  list(set(expected_col).difference(df.columns))\n",
    "        print(\"Columns not in data file: \", missing)\n",
    "        return 0"
   ]
  },
  {
   "cell_type": "code",
   "execution_count": 17,
   "id": "37c5d584",
   "metadata": {},
   "outputs": [
    {
     "name": "stdout",
     "output_type": "stream",
     "text": [
      "Overwriting numericdata.yaml\n"
     ]
    }
   ],
   "source": [
    "%%writefile numericdata.yaml\n",
    "file_type: csv\n",
    "dataset_name: file\n",
    "file_name: new_data\n",
    "inbound_delimiter: \",\"\n",
    "outbound_delimiter: \"|\"\n",
    "skip_leading_rows: 1\n",
    "columns: \n",
    "      - C1\n",
    "      - C2\n",
    "      - C3\n",
    "      - C4\n",
    "      - C5\n",
    "      - C6\n",
    "      - C7\n",
    "      - C8\n",
    "      - C9\n",
    "      - C10\n",
    "      - C11\n",
    "      - C12\n",
    "      - C13\n",
    "      - C14"
   ]
  },
  {
   "cell_type": "code",
   "execution_count": 18,
   "id": "417cbabe",
   "metadata": {},
   "outputs": [],
   "source": [
    "# Read config file\n",
    "import testutility as util\n",
    "config_data = util.read_config_file(\"numericdata.yaml\")"
   ]
  },
  {
   "cell_type": "code",
   "execution_count": 19,
   "id": "747c7f9a",
   "metadata": {},
   "outputs": [
    {
     "data": {
      "text/plain": [
       "','"
      ]
     },
     "execution_count": 19,
     "metadata": {},
     "output_type": "execute_result"
    }
   ],
   "source": [
    "config_data['inbound_delimiter']"
   ]
  },
  {
   "cell_type": "code",
   "execution_count": 20,
   "id": "d04ad12f",
   "metadata": {},
   "outputs": [
    {
     "data": {
      "text/plain": [
       "{'file_type': 'csv',\n",
       " 'dataset_name': 'file',\n",
       " 'file_name': 'new_data',\n",
       " 'inbound_delimiter': ',',\n",
       " 'outbound_delimiter': '|',\n",
       " 'skip_leading_rows': 1,\n",
       " 'columns': ['C1',\n",
       "  'C2',\n",
       "  'C3',\n",
       "  'C4',\n",
       "  'C5',\n",
       "  'C6',\n",
       "  'C7',\n",
       "  'C8',\n",
       "  'C9',\n",
       "  'C10',\n",
       "  'C11',\n",
       "  'C12',\n",
       "  'C13',\n",
       "  'C14']}"
      ]
     },
     "execution_count": 20,
     "metadata": {},
     "output_type": "execute_result"
    }
   ],
   "source": [
    "config_data"
   ]
  },
  {
   "cell_type": "code",
   "execution_count": 21,
   "id": "bfddf1c9",
   "metadata": {},
   "outputs": [
    {
     "data": {
      "text/html": [
       "<div>\n",
       "<style scoped>\n",
       "    .dataframe tbody tr th:only-of-type {\n",
       "        vertical-align: middle;\n",
       "    }\n",
       "\n",
       "    .dataframe tbody tr th {\n",
       "        vertical-align: top;\n",
       "    }\n",
       "\n",
       "    .dataframe thead th {\n",
       "        text-align: right;\n",
       "    }\n",
       "</style>\n",
       "<table border=\"1\" class=\"dataframe\">\n",
       "  <thead>\n",
       "    <tr style=\"text-align: right;\">\n",
       "      <th></th>\n",
       "      <th>Unnamed: 0</th>\n",
       "      <th>C1</th>\n",
       "      <th>C2</th>\n",
       "      <th>C3</th>\n",
       "      <th>C4</th>\n",
       "      <th>C5</th>\n",
       "      <th>C6</th>\n",
       "      <th>C7</th>\n",
       "      <th>C8</th>\n",
       "      <th>C9</th>\n",
       "      <th>C10</th>\n",
       "      <th>C11</th>\n",
       "      <th>C12</th>\n",
       "      <th>C13</th>\n",
       "      <th>C14</th>\n",
       "      <th>C15</th>\n",
       "    </tr>\n",
       "  </thead>\n",
       "  <tbody>\n",
       "    <tr>\n",
       "      <th>0</th>\n",
       "      <td>0</td>\n",
       "      <td>75177999</td>\n",
       "      <td>17916186</td>\n",
       "      <td>4650004</td>\n",
       "      <td>19000906</td>\n",
       "      <td>42160012</td>\n",
       "      <td>18440951</td>\n",
       "      <td>53805842</td>\n",
       "      <td>94719520</td>\n",
       "      <td>74008856</td>\n",
       "      <td>52909114</td>\n",
       "      <td>43817160</td>\n",
       "      <td>80588537</td>\n",
       "      <td>73942922</td>\n",
       "      <td>22395207</td>\n",
       "      <td>Lx7kf</td>\n",
       "    </tr>\n",
       "    <tr>\n",
       "      <th>1</th>\n",
       "      <td>1</td>\n",
       "      <td>97878932</td>\n",
       "      <td>24690227</td>\n",
       "      <td>85375732</td>\n",
       "      <td>63175051</td>\n",
       "      <td>95031555</td>\n",
       "      <td>95460294</td>\n",
       "      <td>29592631</td>\n",
       "      <td>98861411</td>\n",
       "      <td>93237003</td>\n",
       "      <td>86688257</td>\n",
       "      <td>370361</td>\n",
       "      <td>52042690</td>\n",
       "      <td>76144433</td>\n",
       "      <td>46045778</td>\n",
       "      <td>04aSn</td>\n",
       "    </tr>\n",
       "    <tr>\n",
       "      <th>2</th>\n",
       "      <td>2</td>\n",
       "      <td>26538740</td>\n",
       "      <td>11404101</td>\n",
       "      <td>27220354</td>\n",
       "      <td>73108061</td>\n",
       "      <td>46194446</td>\n",
       "      <td>54232131</td>\n",
       "      <td>89367649</td>\n",
       "      <td>67237795</td>\n",
       "      <td>19599157</td>\n",
       "      <td>57918083</td>\n",
       "      <td>58311150</td>\n",
       "      <td>66638976</td>\n",
       "      <td>55947083</td>\n",
       "      <td>97968875</td>\n",
       "      <td>PG6aB</td>\n",
       "    </tr>\n",
       "  </tbody>\n",
       "</table>\n",
       "</div>"
      ],
      "text/plain": [
       "   Unnamed: 0        C1        C2        C3        C4        C5        C6  \\\n",
       "0           0  75177999  17916186   4650004  19000906  42160012  18440951   \n",
       "1           1  97878932  24690227  85375732  63175051  95031555  95460294   \n",
       "2           2  26538740  11404101  27220354  73108061  46194446  54232131   \n",
       "\n",
       "         C7        C8        C9       C10       C11       C12       C13  \\\n",
       "0  53805842  94719520  74008856  52909114  43817160  80588537  73942922   \n",
       "1  29592631  98861411  93237003  86688257    370361  52042690  76144433   \n",
       "2  89367649  67237795  19599157  57918083  58311150  66638976  55947083   \n",
       "\n",
       "        C14    C15  \n",
       "0  22395207  Lx7kf  \n",
       "1  46045778  04aSn  \n",
       "2  97968875  PG6aB  "
      ]
     },
     "execution_count": 21,
     "metadata": {},
     "output_type": "execute_result"
    }
   ],
   "source": [
    "df_sample = pd.read_csv(\"new_data.csv\",delimiter=',')\n",
    "df_sample.head(3)"
   ]
  },
  {
   "cell_type": "code",
   "execution_count": 22,
   "id": "abc80ea6",
   "metadata": {},
   "outputs": [
    {
     "name": "stderr",
     "output_type": "stream",
     "text": [
      "D:\\ProgramDosyalaari\\anaconda\\lib\\site-packages\\IPython\\core\\interactiveshell.py:3369: FutureWarning: In a future version of pandas all arguments of read_csv except for the argument 'filepath_or_buffer' will be keyword-only.\n",
      "  exec(code_obj, self.user_global_ns, self.user_ns)\n"
     ]
    },
    {
     "data": {
      "text/html": [
       "<div>\n",
       "<style scoped>\n",
       "    .dataframe tbody tr th:only-of-type {\n",
       "        vertical-align: middle;\n",
       "    }\n",
       "\n",
       "    .dataframe tbody tr th {\n",
       "        vertical-align: top;\n",
       "    }\n",
       "\n",
       "    .dataframe thead th {\n",
       "        text-align: right;\n",
       "    }\n",
       "</style>\n",
       "<table border=\"1\" class=\"dataframe\">\n",
       "  <thead>\n",
       "    <tr style=\"text-align: right;\">\n",
       "      <th></th>\n",
       "      <th>Unnamed: 0</th>\n",
       "      <th>C1</th>\n",
       "      <th>C2</th>\n",
       "      <th>C3</th>\n",
       "      <th>C4</th>\n",
       "      <th>C5</th>\n",
       "      <th>C6</th>\n",
       "      <th>C7</th>\n",
       "      <th>C8</th>\n",
       "      <th>C9</th>\n",
       "      <th>C10</th>\n",
       "      <th>C11</th>\n",
       "      <th>C12</th>\n",
       "      <th>C13</th>\n",
       "      <th>C14</th>\n",
       "      <th>C15</th>\n",
       "    </tr>\n",
       "  </thead>\n",
       "  <tbody>\n",
       "    <tr>\n",
       "      <th>0</th>\n",
       "      <td>0</td>\n",
       "      <td>75177999</td>\n",
       "      <td>17916186</td>\n",
       "      <td>4650004</td>\n",
       "      <td>19000906</td>\n",
       "      <td>42160012</td>\n",
       "      <td>18440951</td>\n",
       "      <td>53805842</td>\n",
       "      <td>94719520</td>\n",
       "      <td>74008856</td>\n",
       "      <td>52909114</td>\n",
       "      <td>43817160</td>\n",
       "      <td>80588537</td>\n",
       "      <td>73942922</td>\n",
       "      <td>22395207</td>\n",
       "      <td>Lx7kf</td>\n",
       "    </tr>\n",
       "    <tr>\n",
       "      <th>1</th>\n",
       "      <td>1</td>\n",
       "      <td>97878932</td>\n",
       "      <td>24690227</td>\n",
       "      <td>85375732</td>\n",
       "      <td>63175051</td>\n",
       "      <td>95031555</td>\n",
       "      <td>95460294</td>\n",
       "      <td>29592631</td>\n",
       "      <td>98861411</td>\n",
       "      <td>93237003</td>\n",
       "      <td>86688257</td>\n",
       "      <td>370361</td>\n",
       "      <td>52042690</td>\n",
       "      <td>76144433</td>\n",
       "      <td>46045778</td>\n",
       "      <td>04aSn</td>\n",
       "    </tr>\n",
       "    <tr>\n",
       "      <th>2</th>\n",
       "      <td>2</td>\n",
       "      <td>26538740</td>\n",
       "      <td>11404101</td>\n",
       "      <td>27220354</td>\n",
       "      <td>73108061</td>\n",
       "      <td>46194446</td>\n",
       "      <td>54232131</td>\n",
       "      <td>89367649</td>\n",
       "      <td>67237795</td>\n",
       "      <td>19599157</td>\n",
       "      <td>57918083</td>\n",
       "      <td>58311150</td>\n",
       "      <td>66638976</td>\n",
       "      <td>55947083</td>\n",
       "      <td>97968875</td>\n",
       "      <td>PG6aB</td>\n",
       "    </tr>\n",
       "    <tr>\n",
       "      <th>3</th>\n",
       "      <td>3</td>\n",
       "      <td>48185218</td>\n",
       "      <td>63589338</td>\n",
       "      <td>35275611</td>\n",
       "      <td>75073891</td>\n",
       "      <td>58758333</td>\n",
       "      <td>67237333</td>\n",
       "      <td>64410128</td>\n",
       "      <td>18723828</td>\n",
       "      <td>86078699</td>\n",
       "      <td>4955798</td>\n",
       "      <td>92281466</td>\n",
       "      <td>59838334</td>\n",
       "      <td>76475970</td>\n",
       "      <td>73647927</td>\n",
       "      <td>8GKHK</td>\n",
       "    </tr>\n",
       "    <tr>\n",
       "      <th>4</th>\n",
       "      <td>4</td>\n",
       "      <td>38084338</td>\n",
       "      <td>41904722</td>\n",
       "      <td>37930039</td>\n",
       "      <td>41618816</td>\n",
       "      <td>94557596</td>\n",
       "      <td>21679930</td>\n",
       "      <td>1743161</td>\n",
       "      <td>20049110</td>\n",
       "      <td>87990439</td>\n",
       "      <td>82871484</td>\n",
       "      <td>76776308</td>\n",
       "      <td>73388349</td>\n",
       "      <td>79112949</td>\n",
       "      <td>30952741</td>\n",
       "      <td>M4DeW</td>\n",
       "    </tr>\n",
       "  </tbody>\n",
       "</table>\n",
       "</div>"
      ],
      "text/plain": [
       "   Unnamed: 0        C1        C2        C3        C4        C5        C6  \\\n",
       "0           0  75177999  17916186   4650004  19000906  42160012  18440951   \n",
       "1           1  97878932  24690227  85375732  63175051  95031555  95460294   \n",
       "2           2  26538740  11404101  27220354  73108061  46194446  54232131   \n",
       "3           3  48185218  63589338  35275611  75073891  58758333  67237333   \n",
       "4           4  38084338  41904722  37930039  41618816  94557596  21679930   \n",
       "\n",
       "         C7        C8        C9       C10       C11       C12       C13  \\\n",
       "0  53805842  94719520  74008856  52909114  43817160  80588537  73942922   \n",
       "1  29592631  98861411  93237003  86688257    370361  52042690  76144433   \n",
       "2  89367649  67237795  19599157  57918083  58311150  66638976  55947083   \n",
       "3  64410128  18723828  86078699   4955798  92281466  59838334  76475970   \n",
       "4   1743161  20049110  87990439  82871484  76776308  73388349  79112949   \n",
       "\n",
       "        C14    C15  \n",
       "0  22395207  Lx7kf  \n",
       "1  46045778  04aSn  \n",
       "2  97968875  PG6aB  \n",
       "3  73647927  8GKHK  \n",
       "4  30952741  M4DeW  "
      ]
     },
     "execution_count": 22,
     "metadata": {},
     "output_type": "execute_result"
    }
   ],
   "source": [
    "# read the file using config file\n",
    "file_type = config_data['file_type']\n",
    "source_file = \"./\" + config_data['file_name'] + f'.{file_type}'\n",
    "#print(\"\",source_file)\n",
    "df = pd.read_csv(source_file,config_data['inbound_delimiter'])\n",
    "df.head()"
   ]
  },
  {
   "cell_type": "code",
   "execution_count": 27,
   "id": "4d8b0ecf",
   "metadata": {},
   "outputs": [],
   "source": [
    "#Output gz file\n",
    "df.to_csv('new_datas.csv.gz',\n",
    "          sep='|',\n",
    "          header=True,\n",
    "          index=False,\n",
    "          quoting=csv.QUOTE_ALL,\n",
    "          compression='gzip',\n",
    "          quotechar='\"',\n",
    "          doublequote=True,\n",
    "          line_terminator='\\n')"
   ]
  },
  {
   "cell_type": "code",
   "execution_count": 26,
   "id": "f11a6bec",
   "metadata": {},
   "outputs": [
    {
     "data": {
      "text/plain": [
       "1393753171"
      ]
     },
     "execution_count": 26,
     "metadata": {},
     "output_type": "execute_result"
    }
   ],
   "source": [
    "import os\n",
    "#Size of the file\n",
    "os.path.getsize('new_data.csv')"
   ]
  },
  {
   "cell_type": "code",
   "execution_count": 28,
   "id": "8d3e90a7",
   "metadata": {},
   "outputs": [
    {
     "data": {
      "text/plain": [
       "738416706"
      ]
     },
     "execution_count": 28,
     "metadata": {},
     "output_type": "execute_result"
    }
   ],
   "source": [
    "#Size of the file\n",
    "os.path.getsize('new_datas.csv.gz')"
   ]
  },
  {
   "cell_type": "code",
   "execution_count": null,
   "id": "bfaf4eae",
   "metadata": {},
   "outputs": [],
   "source": []
  }
 ],
 "metadata": {
  "kernelspec": {
   "display_name": "Python 3 (ipykernel)",
   "language": "python",
   "name": "python3"
  },
  "language_info": {
   "codemirror_mode": {
    "name": "ipython",
    "version": 3
   },
   "file_extension": ".py",
   "mimetype": "text/x-python",
   "name": "python",
   "nbconvert_exporter": "python",
   "pygments_lexer": "ipython3",
   "version": "3.9.12"
  }
 },
 "nbformat": 4,
 "nbformat_minor": 5
}
